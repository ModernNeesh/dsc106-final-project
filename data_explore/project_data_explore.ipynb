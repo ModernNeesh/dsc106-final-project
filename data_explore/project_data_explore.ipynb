{
 "cells": [
  {
   "cell_type": "code",
   "execution_count": 1,
   "metadata": {},
   "outputs": [],
   "source": [
    "import pandas as pd\n",
    "import requests\n",
    "import json\n",
    "import altair as alt\n",
    "import numpy as np"
   ]
  },
  {
   "cell_type": "code",
   "execution_count": 2,
   "metadata": {},
   "outputs": [],
   "source": [
    "api_key = \"RGAPI-ea6f4e66-adb6-4295-9551-99053de9dee5\""
   ]
  },
  {
   "cell_type": "code",
   "execution_count": 6,
   "metadata": {},
   "outputs": [],
   "source": [
    "puuid = \"C5pz-r_LXeHapwqxflnPxizTjQ2HDYrwkRaa7plZshcRjfEk0SZv3--vFs1QBqevX8Zmw1tVffwZbg\""
   ]
  },
  {
   "cell_type": "code",
   "execution_count": 7,
   "metadata": {},
   "outputs": [],
   "source": [
    "matches = requests.get(f\"https://americas.api.riotgames.com/lol/match/v5/matches/by-puuid/{puuid}/ids?type=ranked&start=0&count=20&api_key={api_key}\").json()"
   ]
  },
  {
   "cell_type": "code",
   "execution_count": null,
   "metadata": {},
   "outputs": [],
   "source": []
  },
  {
   "cell_type": "code",
   "execution_count": 8,
   "metadata": {},
   "outputs": [
    {
     "data": {
      "text/plain": [
       "['NA1_4940766256',\n",
       " 'NA1_4940540609',\n",
       " 'NA1_4940531153',\n",
       " 'NA1_4940509479',\n",
       " 'NA1_4940257601',\n",
       " 'NA1_4940247188',\n",
       " 'NA1_4939875515',\n",
       " 'NA1_4939852486',\n",
       " 'NA1_4939067609',\n",
       " 'NA1_4939037635',\n",
       " 'NA1_4938283583',\n",
       " 'NA1_4938262168',\n",
       " 'NA1_4937556276',\n",
       " 'NA1_4937516691',\n",
       " 'NA1_4937308099',\n",
       " 'NA1_4937272459',\n",
       " 'NA1_4936362993',\n",
       " 'NA1_4936334720',\n",
       " 'NA1_4936324083',\n",
       " 'NA1_4935936622']"
      ]
     },
     "execution_count": 8,
     "metadata": {},
     "output_type": "execute_result"
    }
   ],
   "source": [
    "match = matches[3]"
   ]
  },
  {
   "cell_type": "code",
   "execution_count": null,
   "metadata": {},
   "outputs": [],
   "source": []
  },
  {
   "cell_type": "code",
   "execution_count": 15,
   "metadata": {},
   "outputs": [],
   "source": [
    "gold_time = pd.DataFrame(columns = ['Champion', 'Time', \"Gold\"])"
   ]
  },
  {
   "cell_type": "code",
   "execution_count": 11,
   "metadata": {},
   "outputs": [],
   "source": [
    "def get_match_gold(matchId, puuid): #Given a matchId and a player's puuid, get their gold income over time for that game.\n",
    "    time_re = requests.get(f\"https://americas.api.riotgames.com/lol/match/v5/matches/{matchId}/timeline?api_key={api_key}\")\n",
    "    match_re = requests.get(f\"https://americas.api.riotgames.com/lol/match/v5/matches/{matchId}?api_key={api_key}\")\n",
    "\n",
    "    timeline = time_re.json()['info']\n",
    "    match = match_re.json()['info']\n",
    "\n",
    "\n",
    "    participant = pd.DataFrame(timeline['participants']).set_index('puuid').loc[puuid].get('participantId') #Get the participantId of the player with given puuid\n",
    "\n",
    "    champ_names = {player['puuid'] : player['championName'] for player in match['participants']} #Get the names of everyone's champions\n",
    "\n",
    "    times = [(champ_names[puuid], np.round(frame['timestamp'] / 60000, 0) , frame['participantFrames'][f'{participant}']['totalGold'])  #Get the timestamps and gold at each timestamp for given participantId\n",
    "             for frame in timeline['frames']]\n",
    "    \n",
    "    return pd.DataFrame(times, columns = ['Champion', 'Time', 'Gold']) #Transform to DataFrame and return\n"
   ]
  },
  {
   "cell_type": "code",
   "execution_count": 16,
   "metadata": {},
   "outputs": [],
   "source": [
    "for match in matches[:10]:\n",
    "    gold_time = pd.concat([gold_time, get_match_gold(match, puuid)])"
   ]
  },
  {
   "cell_type": "code",
   "execution_count": 17,
   "metadata": {},
   "outputs": [
    {
     "data": {
      "text/html": [
       "<div>\n",
       "<style scoped>\n",
       "    .dataframe tbody tr th:only-of-type {\n",
       "        vertical-align: middle;\n",
       "    }\n",
       "\n",
       "    .dataframe tbody tr th {\n",
       "        vertical-align: top;\n",
       "    }\n",
       "\n",
       "    .dataframe thead th {\n",
       "        text-align: right;\n",
       "    }\n",
       "</style>\n",
       "<table border=\"1\" class=\"dataframe\">\n",
       "  <thead>\n",
       "    <tr style=\"text-align: right;\">\n",
       "      <th></th>\n",
       "      <th>Champion</th>\n",
       "      <th>Time</th>\n",
       "      <th>Gold</th>\n",
       "    </tr>\n",
       "  </thead>\n",
       "  <tbody>\n",
       "    <tr>\n",
       "      <th>0</th>\n",
       "      <td>Aatrox</td>\n",
       "      <td>0.0</td>\n",
       "      <td>500</td>\n",
       "    </tr>\n",
       "    <tr>\n",
       "      <th>1</th>\n",
       "      <td>Aatrox</td>\n",
       "      <td>1.0</td>\n",
       "      <td>500</td>\n",
       "    </tr>\n",
       "    <tr>\n",
       "      <th>2</th>\n",
       "      <td>Aatrox</td>\n",
       "      <td>2.0</td>\n",
       "      <td>584</td>\n",
       "    </tr>\n",
       "    <tr>\n",
       "      <th>3</th>\n",
       "      <td>Aatrox</td>\n",
       "      <td>3.0</td>\n",
       "      <td>885</td>\n",
       "    </tr>\n",
       "    <tr>\n",
       "      <th>4</th>\n",
       "      <td>Aatrox</td>\n",
       "      <td>4.0</td>\n",
       "      <td>1099</td>\n",
       "    </tr>\n",
       "    <tr>\n",
       "      <th>...</th>\n",
       "      <td>...</td>\n",
       "      <td>...</td>\n",
       "      <td>...</td>\n",
       "    </tr>\n",
       "    <tr>\n",
       "      <th>20</th>\n",
       "      <td>Aatrox</td>\n",
       "      <td>20.0</td>\n",
       "      <td>9522</td>\n",
       "    </tr>\n",
       "    <tr>\n",
       "      <th>21</th>\n",
       "      <td>Aatrox</td>\n",
       "      <td>21.0</td>\n",
       "      <td>10626</td>\n",
       "    </tr>\n",
       "    <tr>\n",
       "      <th>22</th>\n",
       "      <td>Aatrox</td>\n",
       "      <td>22.0</td>\n",
       "      <td>10922</td>\n",
       "    </tr>\n",
       "    <tr>\n",
       "      <th>23</th>\n",
       "      <td>Aatrox</td>\n",
       "      <td>23.0</td>\n",
       "      <td>11468</td>\n",
       "    </tr>\n",
       "    <tr>\n",
       "      <th>24</th>\n",
       "      <td>Aatrox</td>\n",
       "      <td>24.0</td>\n",
       "      <td>11819</td>\n",
       "    </tr>\n",
       "  </tbody>\n",
       "</table>\n",
       "<p>309 rows × 3 columns</p>\n",
       "</div>"
      ],
      "text/plain": [
       "   Champion  Time   Gold\n",
       "0    Aatrox   0.0    500\n",
       "1    Aatrox   1.0    500\n",
       "2    Aatrox   2.0    584\n",
       "3    Aatrox   3.0    885\n",
       "4    Aatrox   4.0   1099\n",
       "..      ...   ...    ...\n",
       "20   Aatrox  20.0   9522\n",
       "21   Aatrox  21.0  10626\n",
       "22   Aatrox  22.0  10922\n",
       "23   Aatrox  23.0  11468\n",
       "24   Aatrox  24.0  11819\n",
       "\n",
       "[309 rows x 3 columns]"
      ]
     },
     "execution_count": 17,
     "metadata": {},
     "output_type": "execute_result"
    }
   ],
   "source": [
    "gold_time"
   ]
  },
  {
   "cell_type": "code",
   "execution_count": 18,
   "metadata": {},
   "outputs": [],
   "source": [
    "gold_time_final = gold_time.groupby(['Champion', 'Time'])['Gold'].mean().reset_index()"
   ]
  },
  {
   "cell_type": "code",
   "execution_count": 19,
   "metadata": {},
   "outputs": [
    {
     "data": {
      "text/html": [
       "\n",
       "<style>\n",
       "  #altair-viz-a099146397534abdbbb1865c48639f67.vega-embed {\n",
       "    width: 100%;\n",
       "    display: flex;\n",
       "  }\n",
       "\n",
       "  #altair-viz-a099146397534abdbbb1865c48639f67.vega-embed details,\n",
       "  #altair-viz-a099146397534abdbbb1865c48639f67.vega-embed details summary {\n",
       "    position: relative;\n",
       "  }\n",
       "</style>\n",
       "<div id=\"altair-viz-a099146397534abdbbb1865c48639f67\"></div>\n",
       "<script type=\"text/javascript\">\n",
       "  var VEGA_DEBUG = (typeof VEGA_DEBUG == \"undefined\") ? {} : VEGA_DEBUG;\n",
       "  (function(spec, embedOpt){\n",
       "    let outputDiv = document.currentScript.previousElementSibling;\n",
       "    if (outputDiv.id !== \"altair-viz-a099146397534abdbbb1865c48639f67\") {\n",
       "      outputDiv = document.getElementById(\"altair-viz-a099146397534abdbbb1865c48639f67\");\n",
       "    }\n",
       "    const paths = {\n",
       "      \"vega\": \"https://cdn.jsdelivr.net/npm/vega@5?noext\",\n",
       "      \"vega-lib\": \"https://cdn.jsdelivr.net/npm/vega-lib?noext\",\n",
       "      \"vega-lite\": \"https://cdn.jsdelivr.net/npm/vega-lite@5.16.3?noext\",\n",
       "      \"vega-embed\": \"https://cdn.jsdelivr.net/npm/vega-embed@6?noext\",\n",
       "    };\n",
       "\n",
       "    function maybeLoadScript(lib, version) {\n",
       "      var key = `${lib.replace(\"-\", \"\")}_version`;\n",
       "      return (VEGA_DEBUG[key] == version) ?\n",
       "        Promise.resolve(paths[lib]) :\n",
       "        new Promise(function(resolve, reject) {\n",
       "          var s = document.createElement('script');\n",
       "          document.getElementsByTagName(\"head\")[0].appendChild(s);\n",
       "          s.async = true;\n",
       "          s.onload = () => {\n",
       "            VEGA_DEBUG[key] = version;\n",
       "            return resolve(paths[lib]);\n",
       "          };\n",
       "          s.onerror = () => reject(`Error loading script: ${paths[lib]}`);\n",
       "          s.src = paths[lib];\n",
       "        });\n",
       "    }\n",
       "\n",
       "    function showError(err) {\n",
       "      outputDiv.innerHTML = `<div class=\"error\" style=\"color:red;\">${err}</div>`;\n",
       "      throw err;\n",
       "    }\n",
       "\n",
       "    function displayChart(vegaEmbed) {\n",
       "      vegaEmbed(outputDiv, spec, embedOpt)\n",
       "        .catch(err => showError(`Javascript Error: ${err.message}<br>This usually means there's a typo in your chart specification. See the javascript console for the full traceback.`));\n",
       "    }\n",
       "\n",
       "    if(typeof define === \"function\" && define.amd) {\n",
       "      requirejs.config({paths});\n",
       "      require([\"vega-embed\"], displayChart, err => showError(`Error loading script: ${err.message}`));\n",
       "    } else {\n",
       "      maybeLoadScript(\"vega\", \"5\")\n",
       "        .then(() => maybeLoadScript(\"vega-lite\", \"5.16.3\"))\n",
       "        .then(() => maybeLoadScript(\"vega-embed\", \"6\"))\n",
       "        .catch(showError)\n",
       "        .then(() => displayChart(vegaEmbed));\n",
       "    }\n",
       "  })({\"config\": {\"view\": {\"continuousWidth\": 300, \"continuousHeight\": 300}}, \"data\": {\"name\": \"data-0c19b7da2ffff746a2f3bd0910a9c84d\"}, \"mark\": {\"type\": \"line\"}, \"encoding\": {\"color\": {\"field\": \"Champion\", \"type\": \"nominal\"}, \"x\": {\"field\": \"Time\", \"type\": \"quantitative\"}, \"y\": {\"field\": \"Gold\", \"type\": \"quantitative\"}}, \"$schema\": \"https://vega.github.io/schema/vega-lite/v5.16.3.json\", \"datasets\": {\"data-0c19b7da2ffff746a2f3bd0910a9c84d\": [{\"Champion\": \"Aatrox\", \"Time\": 0.0, \"Gold\": 500.0}, {\"Champion\": \"Aatrox\", \"Time\": 1.0, \"Gold\": 500.0}, {\"Champion\": \"Aatrox\", \"Time\": 2.0, \"Gold\": 562.0}, {\"Champion\": \"Aatrox\", \"Time\": 3.0, \"Gold\": 809.7142857142857}, {\"Champion\": \"Aatrox\", \"Time\": 4.0, \"Gold\": 1131.0}, {\"Champion\": \"Aatrox\", \"Time\": 5.0, \"Gold\": 1495.0}, {\"Champion\": \"Aatrox\", \"Time\": 6.0, \"Gold\": 1892.2857142857142}, {\"Champion\": \"Aatrox\", \"Time\": 7.0, \"Gold\": 2142.4285714285716}, {\"Champion\": \"Aatrox\", \"Time\": 8.0, \"Gold\": 2481.4285714285716}, {\"Champion\": \"Aatrox\", \"Time\": 9.0, \"Gold\": 2924.0}, {\"Champion\": \"Aatrox\", \"Time\": 10.0, \"Gold\": 3187.714285714286}, {\"Champion\": \"Aatrox\", \"Time\": 11.0, \"Gold\": 3684.1428571428573}, {\"Champion\": \"Aatrox\", \"Time\": 12.0, \"Gold\": 4014.8571428571427}, {\"Champion\": \"Aatrox\", \"Time\": 13.0, \"Gold\": 4354.142857142857}, {\"Champion\": \"Aatrox\", \"Time\": 14.0, \"Gold\": 4829.428571428572}, {\"Champion\": \"Aatrox\", \"Time\": 15.0, \"Gold\": 5255.428571428572}, {\"Champion\": \"Aatrox\", \"Time\": 16.0, \"Gold\": 5646.142857142857}, {\"Champion\": \"Aatrox\", \"Time\": 17.0, \"Gold\": 5958.5}, {\"Champion\": \"Aatrox\", \"Time\": 18.0, \"Gold\": 6582.333333333333}, {\"Champion\": \"Aatrox\", \"Time\": 19.0, \"Gold\": 6938.666666666667}, {\"Champion\": \"Aatrox\", \"Time\": 20.0, \"Gold\": 7293.0}, {\"Champion\": \"Aatrox\", \"Time\": 21.0, \"Gold\": 7810.666666666667}, {\"Champion\": \"Aatrox\", \"Time\": 22.0, \"Gold\": 8391.833333333334}, {\"Champion\": \"Aatrox\", \"Time\": 23.0, \"Gold\": 8861.666666666666}, {\"Champion\": \"Aatrox\", \"Time\": 24.0, \"Gold\": 9109.333333333334}, {\"Champion\": \"Aatrox\", \"Time\": 25.0, \"Gold\": 9304.833333333334}, {\"Champion\": \"Aatrox\", \"Time\": 26.0, \"Gold\": 9498.5}, {\"Champion\": \"Aatrox\", \"Time\": 27.0, \"Gold\": 9821.25}, {\"Champion\": \"Aatrox\", \"Time\": 28.0, \"Gold\": 10208.25}, {\"Champion\": \"Aatrox\", \"Time\": 29.0, \"Gold\": 11188.333333333334}, {\"Champion\": \"Aatrox\", \"Time\": 30.0, \"Gold\": 10852.0}, {\"Champion\": \"Aatrox\", \"Time\": 31.0, \"Gold\": 12826.5}, {\"Champion\": \"Aatrox\", \"Time\": 32.0, \"Gold\": 13247.0}, {\"Champion\": \"Aatrox\", \"Time\": 33.0, \"Gold\": 14355.333333333334}, {\"Champion\": \"Aatrox\", \"Time\": 34.0, \"Gold\": 14510.0}, {\"Champion\": \"Aatrox\", \"Time\": 35.0, \"Gold\": 14742.0}, {\"Champion\": \"Garen\", \"Time\": 0.0, \"Gold\": 500.0}, {\"Champion\": \"Garen\", \"Time\": 1.0, \"Gold\": 500.0}, {\"Champion\": \"Garen\", \"Time\": 2.0, \"Gold\": 584.0}, {\"Champion\": \"Garen\", \"Time\": 3.0, \"Gold\": 832.0}, {\"Champion\": \"Garen\", \"Time\": 4.0, \"Gold\": 1197.0}, {\"Champion\": \"Garen\", \"Time\": 5.0, \"Gold\": 1466.0}, {\"Champion\": \"Garen\", \"Time\": 6.0, \"Gold\": 1687.0}, {\"Champion\": \"Garen\", \"Time\": 7.0, \"Gold\": 1886.0}, {\"Champion\": \"Garen\", \"Time\": 8.0, \"Gold\": 2211.0}, {\"Champion\": \"Garen\", \"Time\": 9.0, \"Gold\": 2718.0}, {\"Champion\": \"Garen\", \"Time\": 10.0, \"Gold\": 3010.0}, {\"Champion\": \"Garen\", \"Time\": 11.0, \"Gold\": 3224.0}, {\"Champion\": \"Garen\", \"Time\": 12.0, \"Gold\": 3703.0}, {\"Champion\": \"Garen\", \"Time\": 13.0, \"Gold\": 3902.0}, {\"Champion\": \"Garen\", \"Time\": 14.0, \"Gold\": 4288.0}, {\"Champion\": \"Garen\", \"Time\": 15.0, \"Gold\": 4550.0}, {\"Champion\": \"Garen\", \"Time\": 16.0, \"Gold\": 4855.0}, {\"Champion\": \"Garen\", \"Time\": 17.0, \"Gold\": 5285.0}, {\"Champion\": \"Garen\", \"Time\": 18.0, \"Gold\": 5708.0}, {\"Champion\": \"Garen\", \"Time\": 19.0, \"Gold\": 5915.0}, {\"Champion\": \"Garen\", \"Time\": 20.0, \"Gold\": 6274.0}, {\"Champion\": \"Garen\", \"Time\": 21.0, \"Gold\": 7084.0}, {\"Champion\": \"Garen\", \"Time\": 22.0, \"Gold\": 7269.0}, {\"Champion\": \"Garen\", \"Time\": 23.0, \"Gold\": 7458.0}, {\"Champion\": \"Garen\", \"Time\": 24.0, \"Gold\": 7672.0}, {\"Champion\": \"Garen\", \"Time\": 25.0, \"Gold\": 7944.0}, {\"Champion\": \"Garen\", \"Time\": 26.0, \"Gold\": 8254.0}, {\"Champion\": \"Garen\", \"Time\": 27.0, \"Gold\": 8551.0}, {\"Champion\": \"Garen\", \"Time\": 28.0, \"Gold\": 9122.0}, {\"Champion\": \"Garen\", \"Time\": 29.0, \"Gold\": 9585.0}, {\"Champion\": \"Garen\", \"Time\": 30.0, \"Gold\": 9966.0}, {\"Champion\": \"Garen\", \"Time\": 31.0, \"Gold\": 10298.0}, {\"Champion\": \"Garen\", \"Time\": 32.0, \"Gold\": 10453.0}, {\"Champion\": \"Gwen\", \"Time\": 0.0, \"Gold\": 500.0}, {\"Champion\": \"Gwen\", \"Time\": 1.0, \"Gold\": 500.0}, {\"Champion\": \"Gwen\", \"Time\": 2.0, \"Gold\": 598.0}, {\"Champion\": \"Gwen\", \"Time\": 3.0, \"Gold\": 790.0}, {\"Champion\": \"Gwen\", \"Time\": 4.0, \"Gold\": 1250.0}, {\"Champion\": \"Gwen\", \"Time\": 5.0, \"Gold\": 1554.0}, {\"Champion\": \"Gwen\", \"Time\": 6.0, \"Gold\": 1827.0}, {\"Champion\": \"Gwen\", \"Time\": 7.0, \"Gold\": 2148.0}, {\"Champion\": \"Gwen\", \"Time\": 8.0, \"Gold\": 2589.0}, {\"Champion\": \"Gwen\", \"Time\": 9.0, \"Gold\": 2817.0}, {\"Champion\": \"Gwen\", \"Time\": 10.0, \"Gold\": 3580.0}, {\"Champion\": \"Gwen\", \"Time\": 11.0, \"Gold\": 3918.0}, {\"Champion\": \"Gwen\", \"Time\": 12.0, \"Gold\": 4662.0}, {\"Champion\": \"Gwen\", \"Time\": 13.0, \"Gold\": 4805.0}, {\"Champion\": \"Gwen\", \"Time\": 14.0, \"Gold\": 5418.0}, {\"Champion\": \"Gwen\", \"Time\": 15.0, \"Gold\": 5874.0}, {\"Champion\": \"Gwen\", \"Time\": 16.0, \"Gold\": 5996.0}, {\"Champion\": \"Gwen\", \"Time\": 17.0, \"Gold\": 6370.0}, {\"Champion\": \"Gwen\", \"Time\": 18.0, \"Gold\": 6591.0}, {\"Champion\": \"Gwen\", \"Time\": 19.0, \"Gold\": 7375.0}, {\"Champion\": \"Gwen\", \"Time\": 20.0, \"Gold\": 8063.0}, {\"Champion\": \"Gwen\", \"Time\": 21.0, \"Gold\": 9452.0}, {\"Champion\": \"Gwen\", \"Time\": 22.0, \"Gold\": 9791.0}, {\"Champion\": \"Gwen\", \"Time\": 23.0, \"Gold\": 10136.0}, {\"Champion\": \"Gwen\", \"Time\": 24.0, \"Gold\": 10544.0}, {\"Champion\": \"Gwen\", \"Time\": 25.0, \"Gold\": 10852.0}, {\"Champion\": \"Gwen\", \"Time\": 26.0, \"Gold\": 11576.0}, {\"Champion\": \"Gwen\", \"Time\": 27.0, \"Gold\": 12025.0}, {\"Champion\": \"Gwen\", \"Time\": 28.0, \"Gold\": 12148.0}, {\"Champion\": \"Gwen\", \"Time\": 29.0, \"Gold\": 12620.0}, {\"Champion\": \"Gwen\", \"Time\": 30.0, \"Gold\": 13203.0}, {\"Champion\": \"Gwen\", \"Time\": 31.0, \"Gold\": 13632.0}, {\"Champion\": \"Gwen\", \"Time\": 32.0, \"Gold\": 14689.0}, {\"Champion\": \"Gwen\", \"Time\": 33.0, \"Gold\": 15237.0}, {\"Champion\": \"Gwen\", \"Time\": 34.0, \"Gold\": 16067.0}, {\"Champion\": \"Gwen\", \"Time\": 35.0, \"Gold\": 17228.0}, {\"Champion\": \"Gwen\", \"Time\": 36.0, \"Gold\": 18448.0}, {\"Champion\": \"Gwen\", \"Time\": 37.0, \"Gold\": 18723.0}, {\"Champion\": \"Gwen\", \"Time\": 38.0, \"Gold\": 19320.0}, {\"Champion\": \"Gwen\", \"Time\": 39.0, \"Gold\": 20445.0}, {\"Champion\": \"Yone\", \"Time\": 0.0, \"Gold\": 500.0}, {\"Champion\": \"Yone\", \"Time\": 1.0, \"Gold\": 500.0}, {\"Champion\": \"Yone\", \"Time\": 2.0, \"Gold\": 563.0}, {\"Champion\": \"Yone\", \"Time\": 3.0, \"Gold\": 811.0}, {\"Champion\": \"Yone\", \"Time\": 4.0, \"Gold\": 1356.0}, {\"Champion\": \"Yone\", \"Time\": 5.0, \"Gold\": 1709.0}, {\"Champion\": \"Yone\", \"Time\": 6.0, \"Gold\": 2000.0}, {\"Champion\": \"Yone\", \"Time\": 7.0, \"Gold\": 2356.0}, {\"Champion\": \"Yone\", \"Time\": 8.0, \"Gold\": 2638.0}, {\"Champion\": \"Yone\", \"Time\": 9.0, \"Gold\": 3043.0}, {\"Champion\": \"Yone\", \"Time\": 10.0, \"Gold\": 3426.0}, {\"Champion\": \"Yone\", \"Time\": 11.0, \"Gold\": 3778.0}, {\"Champion\": \"Yone\", \"Time\": 12.0, \"Gold\": 4896.0}, {\"Champion\": \"Yone\", \"Time\": 13.0, \"Gold\": 5145.0}, {\"Champion\": \"Yone\", \"Time\": 14.0, \"Gold\": 5801.0}, {\"Champion\": \"Yone\", \"Time\": 15.0, \"Gold\": 6013.0}, {\"Champion\": \"Yone\", \"Time\": 16.0, \"Gold\": 6332.0}, {\"Champion\": \"Yone\", \"Time\": 17.0, \"Gold\": 6839.0}, {\"Champion\": \"Yone\", \"Time\": 18.0, \"Gold\": 7226.0}, {\"Champion\": \"Yone\", \"Time\": 19.0, \"Gold\": 7611.0}, {\"Champion\": \"Yone\", \"Time\": 20.0, \"Gold\": 7733.0}, {\"Champion\": \"Yone\", \"Time\": 21.0, \"Gold\": 8183.0}, {\"Champion\": \"Yone\", \"Time\": 22.0, \"Gold\": 8522.0}, {\"Champion\": \"Yone\", \"Time\": 23.0, \"Gold\": 8864.0}, {\"Champion\": \"Yone\", \"Time\": 24.0, \"Gold\": 9044.0}, {\"Champion\": \"Yone\", \"Time\": 25.0, \"Gold\": 9341.0}, {\"Champion\": \"Yone\", \"Time\": 26.0, \"Gold\": 9614.0}, {\"Champion\": \"Yone\", \"Time\": 27.0, \"Gold\": 10098.0}, {\"Champion\": \"Yone\", \"Time\": 28.0, \"Gold\": 10221.0}, {\"Champion\": \"Yone\", \"Time\": 29.0, \"Gold\": 10519.0}, {\"Champion\": \"Yone\", \"Time\": 30.0, \"Gold\": 10829.0}, {\"Champion\": \"Yone\", \"Time\": 31.0, \"Gold\": 11278.0}, {\"Champion\": \"Yone\", \"Time\": 32.0, \"Gold\": 11756.0}, {\"Champion\": \"Yone\", \"Time\": 33.0, \"Gold\": 12115.0}, {\"Champion\": \"Yone\", \"Time\": 34.0, \"Gold\": 12186.0}]}}, {\"mode\": \"vega-lite\"});\n",
       "</script>"
      ],
      "text/plain": [
       "alt.Chart(...)"
      ]
     },
     "execution_count": 19,
     "metadata": {},
     "output_type": "execute_result"
    }
   ],
   "source": [
    "alt.Chart(gold_time_final).mark_line().encode(\n",
    "    x = alt.X('Time'),\n",
    "    y = alt.Y('Gold'),\n",
    "    color = alt.Color('Champion')\n",
    ")"
   ]
  }
 ],
 "metadata": {
  "kernelspec": {
   "display_name": "Python 3",
   "language": "python",
   "name": "python3"
  },
  "language_info": {
   "codemirror_mode": {
    "name": "ipython",
    "version": 3
   },
   "file_extension": ".py",
   "mimetype": "text/x-python",
   "name": "python",
   "nbconvert_exporter": "python",
   "pygments_lexer": "ipython3",
   "version": "3.10.9"
  }
 },
 "nbformat": 4,
 "nbformat_minor": 2
}
